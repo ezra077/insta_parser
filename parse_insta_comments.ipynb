{
 "cells": [
  {
   "cell_type": "code",
   "execution_count": null,
   "metadata": {},
   "outputs": [],
   "source": [
    "# imports\n",
    "\n",
    "from selenium import webdriver\n",
    "from bs4 import BeautifulSoup as bs\n",
    "import time\n",
    "import pandas as pd\n",
    "from selenium.webdriver.common.keys import Keys"
   ]
  },
  {
   "cell_type": "code",
   "execution_count": null,
   "metadata": {},
   "outputs": [],
   "source": [
    "# paths to buttons and links - check class names in case of failing\n",
    "\n",
    "loginLink = 'https://www.instagram.com/accounts/login/?source=auth_switcher'\n",
    "linkToInspect = 'https://www.instagram.com/p/POSTLINK'\n",
    "\n",
    "loadMoreCommentsPath = \"//span[@class='glyphsSpriteCircle_add__outline__24__grey_9 u-__7']\"\n",
    "viewRepliesPath = \"//div[@class='                   Igw0E     IwRSH      eGOV_     ybXk5    _4EzTm                                                                                                              ']\"\n",
    "commentsClass = \"C4VMK\""
   ]
  },
  {
   "cell_type": "code",
   "execution_count": null,
   "metadata": {},
   "outputs": [],
   "source": [
    "# login to Instagram\n",
    "\n",
    "username = 'your_user_name'\n",
    "password = 'your_passwd'\n",
    "\n",
    "driver = webdriver.Chrome('/path/to/chromedriver')\n",
    "driver.get(loginLink)\n",
    "driver.implicitly_wait(3)\n",
    "\n",
    "usernameh = driver.find_element_by_name('username')\n",
    "usernameh.send_keys(username)\n",
    "\n",
    "passwordh = driver.find_element_by_name('password')\n",
    "passwordh.send_keys(password)\n",
    "\n",
    "driver.implicitly_wait(3)\n",
    "passwordh.send_keys(Keys.ENTER)"
   ]
  },
  {
   "cell_type": "code",
   "execution_count": null,
   "metadata": {},
   "outputs": [],
   "source": [
    "# go to inspected page\n",
    "\n",
    "driver.get(linkToInspect)"
   ]
  },
  {
   "cell_type": "code",
   "execution_count": null,
   "metadata": {},
   "outputs": [],
   "source": [
    "# load all comments\n",
    "\n",
    "while len(driver.find_elements_by_xpath(loadMoreCommentsPath))!=0:\n",
    "    loadMoreComments = driver.find_element_by_xpath(loadMoreCommentsPath)\n",
    "    loadMoreComments.click()\n",
    "    time.sleep(1)"
   ]
  },
  {
   "cell_type": "code",
   "execution_count": null,
   "metadata": {},
   "outputs": [],
   "source": [
    "# view all replies by xpath\n",
    "while len(driver.find_elements_by_xpath(\"//*[contains(text(), 'View replies')]\"))!=0:\n",
    "    repliesList = driver.find_elements_by_xpath(\"//*[contains(text(), 'View replies')]\")\n",
    "    for i in repliesList:\n",
    "        time.sleep(1)\n",
    "        i.click()"
   ]
  },
  {
   "cell_type": "code",
   "execution_count": null,
   "metadata": {},
   "outputs": [],
   "source": [
    "# handling of content and parsing\n",
    "\n",
    "content = driver.page_source\n",
    "soup = bs(content, 'html.parser')"
   ]
  },
  {
   "cell_type": "code",
   "execution_count": null,
   "metadata": {},
   "outputs": [],
   "source": [
    "# getting comments from soup\n",
    "\n",
    "comments_up = soup.find_all(\"div\", {\"class\": commentsClass})"
   ]
  },
  {
   "cell_type": "code",
   "execution_count": null,
   "metadata": {},
   "outputs": [],
   "source": [
    "# extracting comments and replies \n",
    "\n",
    "usernames = []\n",
    "dates = []\n",
    "comments = []\n",
    "for i in comments_up:\n",
    "    comments.append(i.find('span').text)\n",
    "    dates.append(i.find('time')['datetime'])\n",
    "    usernames.append(i.find('a')['href'][1:-1])"
   ]
  },
  {
   "cell_type": "code",
   "execution_count": null,
   "metadata": {},
   "outputs": [],
   "source": [
    "# putting in pandas dataframe\n",
    "\n",
    "d = {'datetime': dates, 'username': usernames, 'comment': comments}  \n",
    "df = pd.DataFrame(d)  \n",
    "df"
   ]
  },
  {
   "cell_type": "code",
   "execution_count": null,
   "metadata": {},
   "outputs": [],
   "source": [
    "# save to csv\n",
    "\n",
    "df.to_csv(path_or_buf = 'comments_out.csv', index=False)"
   ]
  }
 ],
 "metadata": {
  "kernelspec": {
   "display_name": "Python 3",
   "language": "python",
   "name": "python3"
  },
  "language_info": {
   "codemirror_mode": {
    "name": "ipython",
    "version": 3
   },
   "file_extension": ".py",
   "mimetype": "text/x-python",
   "name": "python",
   "nbconvert_exporter": "python",
   "pygments_lexer": "ipython3",
   "version": "3.7.3"
  }
 },
 "nbformat": 4,
 "nbformat_minor": 2
}
